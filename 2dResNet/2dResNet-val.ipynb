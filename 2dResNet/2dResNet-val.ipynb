{
 "cells": [
  {
   "cell_type": "code",
   "execution_count": 1,
   "metadata": {},
   "outputs": [],
   "source": [
    "import torch\n",
    "import torch.nn as nn\n",
    "import torch.optim as optim\n",
    "import torch.nn.functional as F\n",
    "import torchvision\n",
    "import torchvision.transforms as transforms\n",
    "from torch.utils.data import Dataset, DataLoader\n",
    "import os, sys\n",
    "import numpy as np\n",
    "import torchvision.models as models\n",
    "import time\n"
   ]
  },
  {
   "cell_type": "code",
   "execution_count": 2,
   "metadata": {},
   "outputs": [],
   "source": [
    "from load_moments_dataset import Moments\n",
    "from global_params import *"
   ]
  },
  {
   "cell_type": "code",
   "execution_count": 3,
   "metadata": {},
   "outputs": [],
   "source": [
    "debug = False\n",
    "if debug :\n",
    "    print(savedPath)\n",
    "    print(pretrainedPath)    "
   ]
  },
  {
   "cell_type": "code",
   "execution_count": 4,
   "metadata": {},
   "outputs": [],
   "source": [
    "if debug :\n",
    "    print(idx2label[:10])"
   ]
  },
  {
   "cell_type": "code",
   "execution_count": 5,
   "metadata": {},
   "outputs": [
    {
     "name": "stdout",
     "output_type": "stream",
     "text": [
      "Number of validation videos: 10000\n"
     ]
    }
   ],
   "source": [
    "valset = Moments(subset='validation', use_frames=4)\n",
    "print(\"Number of validation videos:\", len(valset))\n",
    "\n",
    "if (debug) :\n",
    "    video_info = valset.__getitem__(1300)\n",
    "    print(type(video_info[0]))\n",
    "    print(video_info[0].device)\n",
    "    print(video_info[0].shape)\n",
    "    \n",
    "    video_info_cuda = video_info[0].cuda()\n",
    "    print(type(video_info_cuda))\n",
    "    print(video_info_cuda.device)\n",
    "    print(video_info_cuda.shape)\n",
    "    \n",
    "    print(video_info[1])\n",
    "    print(video_info[2])    "
   ]
  },
  {
   "cell_type": "code",
   "execution_count": 6,
   "metadata": {},
   "outputs": [],
   "source": [
    "if debug :\n",
    "    print(device)"
   ]
  },
  {
   "cell_type": "code",
   "execution_count": 7,
   "metadata": {},
   "outputs": [],
   "source": [
    "from Frame2dResNet50 import Frame2dResNet50"
   ]
  },
  {
   "cell_type": "code",
   "execution_count": 8,
   "metadata": {},
   "outputs": [],
   "source": [
    "valset_loader_test = DataLoader(valset, batch_size=16, shuffle=False, num_workers=12)"
   ]
  },
  {
   "cell_type": "code",
   "execution_count": 9,
   "metadata": {},
   "outputs": [],
   "source": [
    "def testModel(modelName, print_to = sys.stdout) :\n",
    "    model = Frame2dResNet50().to(device)\n",
    "    modelPathFileName = os.path.join(savedPath, modelName)\n",
    "    state = torch.load(modelPathFileName)\n",
    "    model.load_state_dict(state['state_dict'])\n",
    "    print('model loaded from %s' % modelPathFileName)\n",
    "    \n",
    "    \n",
    "    torch.manual_seed(123)\n",
    "    print('video,label,pred1,prob1,pred2,prob2,pred3,prob3,pred4,prob4,pred5,prob5,correct1,correct5', \n",
    "          flush=True, file=print_to)\n",
    "    \n",
    "    model.eval()\n",
    "    num_correct1 = 0\n",
    "    num_correct5 = 0\n",
    "    num_samples = 0\n",
    "    torch.manual_seed(123)\n",
    "    with torch.no_grad():\n",
    "        for data, target, video_path in valset_loader_test:\n",
    "            data_g = data.to(device)\n",
    "            scores = model(data_g)\n",
    "            probs = F.softmax(scores, dim=1).data.cpu().numpy()\n",
    "            preds = probs.argsort(axis=1)[:,-1:-6:-1]\n",
    "            target_np = target.numpy()\n",
    "            \n",
    "            batch_sz = preds.shape[0]\n",
    "            num_correct1 += (preds[:,0] == target_np).sum()\n",
    "            num_correct5 += sum([1 if target_np[i] in preds[i] else 0 for i in range(batch_sz)])\n",
    "            num_samples += batch_sz\n",
    "\n",
    "            for i in range(batch_sz) :\n",
    "                video_info = [video_path[i]]\n",
    "                video_info.append(idx2label[target_np[i]])\n",
    "                correct_top_5 = 0\n",
    "                for k in range(5) :\n",
    "                    video_info.append(idx2label[preds[i,k]])\n",
    "                    video_info.append(str(probs[i, preds[i,k]]))\n",
    "                    if (preds[i, k] == target_np[i]) :\n",
    "                        correct_top_5 += 1\n",
    "                correct_top_1 = 1 if preds[i,0]==target_np[i] else 0\n",
    "                video_info.append(str(correct_top_1))\n",
    "                video_info.append(str(correct_top_5))\n",
    "                print(','.join(video_info), flush=True, file=print_to)\n",
    "                \n",
    "            if (num_samples % 400 == 0) :\n",
    "                print('Tested [{}/{} ({:.2%})]'.format(\n",
    "                    num_samples, len(valset), num_samples / len(valset)), flush=True)\n",
    "            if (debug and num_samples >= 1) :\n",
    "                break\n",
    "    acc1 = 1.0*num_correct1/num_samples\n",
    "    acc5 = 1.0*num_correct5/num_samples\n",
    "    print('Validation set accuracy: top-1 {}/{} ({:.2%}), top-5 {}/{} ({:.2%})'.format(\n",
    "        num_correct1, num_samples, acc1, num_correct5, num_samples, acc5), flush=True)\n",
    "    print('total,%d,,,,,,,,,,,%d,%d'%(num_samples, num_correct1, num_correct5), flush=True, file=print_to)\n",
    "    "
   ]
  },
  {
   "cell_type": "code",
   "execution_count": 11,
   "metadata": {
    "scrolled": true
   },
   "outputs": [],
   "source": [
    "for i in range(1, 1) :\n",
    "    modelName = \"2dResNet-p4lr4-%d.pth\"%i\n",
    "    output_FName = 'val/val-'+modelName[:-4]+'.csv'\n",
    "    FOut = open(output_FName, 'w')\n",
    "    print('Outputing result to '+ output_FName)\n",
    "    testModel(modelName, FOut)\n",
    "    FOut.close()"
   ]
  },
  {
   "cell_type": "code",
   "execution_count": null,
   "metadata": {},
   "outputs": [],
   "source": []
  },
  {
   "cell_type": "code",
   "execution_count": null,
   "metadata": {},
   "outputs": [],
   "source": []
  }
 ],
 "metadata": {
  "kernelspec": {
   "display_name": "Python 3",
   "language": "python",
   "name": "python3"
  },
  "language_info": {
   "codemirror_mode": {
    "name": "ipython",
    "version": 3
   },
   "file_extension": ".py",
   "mimetype": "text/x-python",
   "name": "python",
   "nbconvert_exporter": "python",
   "pygments_lexer": "ipython3",
   "version": "3.6.4"
  }
 },
 "nbformat": 4,
 "nbformat_minor": 2
}
